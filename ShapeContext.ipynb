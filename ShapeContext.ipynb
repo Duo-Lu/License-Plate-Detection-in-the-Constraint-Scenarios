{
 "cells": [
  {
   "cell_type": "code",
   "execution_count": 1,
   "metadata": {},
   "outputs": [],
   "source": [
    "import cv2\n",
    "import numpy as np\n",
    "import math\n",
    "import matplotlib.pyplot as plt\n",
    "import seaborn as sns\n",
    "from scipy.spatial.distance import cdist\n",
    "from scipy.optimize import linear_sum_assignment #the Hungarian method, O(n^3)\n",
    "from os import listdir\n",
    "from os.path import isfile, join\n",
    "import time"
   ]
  },
  {
   "cell_type": "code",
   "execution_count": 2,
   "metadata": {},
   "outputs": [],
   "source": []
  },
  {
   "cell_type": "code",
   "execution_count": 3,
   "metadata": {},
   "outputs": [],
   "source": [
    "# match the target img to all base descriptors and reture lowest cost (and the cost dictionary as well for test) \n",
    "def recognize(target, desc_path='image/descriptors', bin_r=5, bin_theta=12, r=2, n_samplePoints = 50):\n",
    "    if not isinstance(target, np.ndarray):\n",
    "        if isfile(target):\n",
    "            target = cv2.imread(target)\n",
    "    \n",
    "    desc_t = computeDescriptor(target, bin_r, bin_theta, r, n_samplePoints)\n",
    "    costs = {}\n",
    "    desc_list = listdir(desc_path)\n",
    "    for i, fname in enumerate(desc_list):\n",
    "         if isfile(join(desc_path, fname)):\n",
    "            desc_s = np.load(desc_path+'/'+fname)\n",
    "#             if not desc_s.shape == desc_t.shape:\n",
    "#                 print(\"Target and base escriptor shapes must match\")\n",
    "#                 return None, None\n",
    "            cMatrix = computeCostMatrix_chi2(desc_s, desc_t)\n",
    "            cost,_,_ = computeMinCost(cMatrix)\n",
    "            costs[fname[0]] = round(cost, 2)\n",
    "    return min(costs, key=costs.get), costs"
   ]
  },
  {
   "cell_type": "code",
   "execution_count": 4,
   "metadata": {},
   "outputs": [],
   "source": [
    "# Compute the difference of two imgs, for debug\n",
    "def computeDiff(source, target, bin_r=5, bin_theta=12, r=2, n_samplePoints = 50):\n",
    "    desc_s = computeDescriptor(source, bin_r, bin_theta, r, n_samplePoints)\n",
    "    desc_t = computeDescriptor(target, bin_r, bin_theta, r, n_samplePoints)\n",
    "    cMatrix = computeCostMatrix_chi2(desc_s, desc_t)\n",
    "    return computeMinCost(cMatrix)"
   ]
  },
  {
   "cell_type": "code",
   "execution_count": 5,
   "metadata": {},
   "outputs": [],
   "source": [
    "# Plot the histogram of ONE point in a descriptor, for debug and demo\n",
    "def plotDescriptorHist(des_per_point):\n",
    "    plt.pcolormesh(np.flip(des_per_point, 0), cmap='Greys')\n",
    "    plt.xlabel('θ')\n",
    "    plt.ylabel('log r')\n",
    "    plt.colorbar()\n",
    "    plt.show()\n",
    "    \n",
    "# plotDescriptorHist(descriptor[0])"
   ]
  },
  {
   "cell_type": "code",
   "execution_count": 6,
   "metadata": {},
   "outputs": [],
   "source": [
    "#Compute shape context descriptor of standard size (number of bins) and radius of 2 (eu distance)\n",
    "#return: a descriptor (size: n_samplePoints * bin_r * bin_theta)\n",
    "def computeDescriptor(img, bin_r=5, bin_theta=12, r=2, n_samplePoints = 50):\n",
    "    #convert to gray img\n",
    "    if len(img.shape) > 2:\n",
    "        img = cv2.cvtColor(img, cv2.COLOR_BGR2GRAY)\n",
    "    \n",
    "    # binarize img (or not) and take edges\n",
    "#     img = cv2.threshold(img, 127, 255, cv2.THRESH_BINARY | cv2.THRESH_OTSU)[1]\n",
    "    edge = cv2.Canny(img, 250, 300)# 250 300\n",
    "#     #take edge points from canny edge directly\n",
    "#     contour_indices = []\n",
    "#     for index, val in np.ndenumerate(edge):\n",
    "#         if val == 255:\n",
    "#             contour_indices.append((index[1],index[0]))\n",
    "#     contour_indices = np.array(contour_indices).reshape((-1, 2)).tolist()\n",
    "\n",
    "    #***instead, use contour points found by findContours() ***\n",
    "    contours,_ = cv2.findContours(edge, cv2.RETR_LIST, cv2.CHAIN_APPROX_NONE)\n",
    "    #init array of all contour point coordinates\n",
    "    contour_indices = np.array(contours[0]).reshape((-1, 2))\n",
    "\n",
    "    #add all contour point coordinates\n",
    "    for i in range(1,len(contours)):\n",
    "        contour_indices = np.concatenate([contour_indices, np.array(contours[i]).reshape((-1, 2))], axis=0)\n",
    "    contour_indices = contour_indices.tolist()\n",
    "    \n",
    "#     #show intermedia result, for debug only\n",
    "#     ret = np.zeros(img.shape)\n",
    "#     h,w = img.shape\n",
    "#     for [x,y] in contour_indices:\n",
    "#     #     if y<h and x<w:\n",
    "#             ret[y][x] = 255\n",
    "#     plt.imshow(ret)\n",
    "\n",
    "    #sample some of contour points\n",
    "    n_contourPoints = len(contour_indices)\n",
    "\n",
    "#     #randomly sample points, follow uniform distribution (bad idea)\n",
    "#     samplePoints_indices = np.random.choice(range(n_contourPoints), n_samplePoints)\n",
    "#     samplePoints = []\n",
    "#     for i in samplePoints_indices:\n",
    "#         samplePoints.append(contour_indices[i])\n",
    "    #iteratively and uniformly choose n contour points\n",
    "    samplePoints = []\n",
    "    for i in range(0, n_contourPoints, round(n_contourPoints/n_samplePoints)):\n",
    "        samplePoints.append(contour_indices[i])\n",
    "    samplePoints = samplePoints[:n_samplePoints]\n",
    "\n",
    "    if len(samplePoints)<n_samplePoints:\n",
    "        #if points not enough, fill with meanless points \n",
    "#         print(\"total points less than required:\",n_samplePoints-len(samplePoints))\n",
    "        samplePoints = samplePoints + (n_samplePoints-len(samplePoints))*[[0,0]]\n",
    "    \n",
    "#      #show intermedia result, for debug only\n",
    "#     ret = np.zeros(img.shape)\n",
    "#     h,w = img.shape\n",
    "#     for [x,y] in samplePoints:\n",
    "# #         if y<h and x<w:\n",
    "#             ret[y][x] = 255\n",
    "#     plt.imshow(ret)\n",
    "    \n",
    "    #init descriptor of all points, 5 * 12 bins for each point\n",
    "    descriptor = np.zeros((n_samplePoints, bin_r, bin_theta), dtype=int)\n",
    "    #compute eu dists and normalize by mean (a symmetric matrix)\n",
    "    euclidians = cdist(samplePoints, samplePoints, metric='euclidean')\n",
    "    normalized_euclidians = euclidians / euclidians.mean()\n",
    "    #declare logspace bonds\n",
    "    r_log = np.logspace(np.log10(0.125), np.log10(r), bin_r)\n",
    "\n",
    "    #categorize eu dists radius-wise (5 categories) for each point, and store together in eu_rw\n",
    "    #*** the outer most layer belongs to cate 1 ***\n",
    "    eu_rw = np.zeros((n_samplePoints, n_samplePoints), dtype=int)\n",
    "    for i in range(bin_r):\n",
    "    #     for m in range(n_samplePoints):\n",
    "    #         for n in range(n_samplePoints):\n",
    "    #             eu_rw[m][n] += (normalized_euclidians[m][n]<r_log[i]) \n",
    "        eu_rw += normalized_euclidians<r_log[i] #O(n^2) matrix op\n",
    "\n",
    "    #compute angles inter-points and normalize by *** vector of max dist points *** \n",
    "    thetas = cdist(samplePoints, samplePoints, metric=lambda u, v: math.atan2((v[1] - u[1]), (v[0] - u[0])))\n",
    "#     maxPoints = [euclidians.argmax()//n_samplePoints, euclidians.argmax()%n_samplePoints]\n",
    "#     normAngle = thetas[maxPoints[0], maxPoints[1]]\n",
    "    #rotate by normAngle,convert to positive,and ignore small values\n",
    "    for i in range(n_samplePoints):\n",
    "        for j in range(n_samplePoints):\n",
    "#             thetas[i][j] -= normAngle*(thetas[i][j]!=0)# if thetas[i][j]!=0\n",
    "            thetas[i][j] += 2*math.pi*(thetas[i][j]<0)# if thetas[i][j]<0\n",
    "            thetas[i][j] = thetas[i][j]*(thetas[i][j]>1e-7)# if thetas[i][j]>1e-7\n",
    "\n",
    "    #categorize angles from 0 to 2*pi by a factor of bin_theta (default: 12) for each point, \n",
    "    #and store together in theta_aw. \n",
    "    theta_aw = np.int32(thetas/(2*math.pi/bin_theta)) #O(n^2) matrix op\n",
    "\n",
    "    #fill in the descriptor\n",
    "    for i in range(n_samplePoints):\n",
    "        desc_per_point = np.zeros((bin_r, bin_theta)) \n",
    "        for j in range(n_samplePoints):\n",
    "            if eu_rw[i][j]:# 0 means eu dist exceeds the radius of descriptor\n",
    "                desc_per_point[eu_rw[i][j]-1, theta_aw[i][j]] += 1\n",
    "        descriptor[i][:][:] = desc_per_point[:][:]    \n",
    "    return descriptor\n"
   ]
  },
  {
   "cell_type": "code",
   "execution_count": 7,
   "metadata": {},
   "outputs": [],
   "source": [
    "#compute chi square cost of two descripter\n",
    "def computeCostMatrix_chi2(source, target):\n",
    "    assert(source.shape==target.shape)\n",
    "    l,h,w = source.shape # 50*5*12 default\n",
    "    c = np.zeros((l, l), dtype=float)\n",
    "    for i in range(l):\n",
    "        for j in range(l):\n",
    "            for m in range(h):\n",
    "                for n in range(w):\n",
    "                #assert non-zero denominator\n",
    "                    if (source[i][m][n]+target[j][m][n]):\n",
    "                        c[i][j] += 0.5*((source[i][m][n] - target[j][m][n])**2)/(source[i][m][n] + target[j][m][n])\n",
    "    return c\n",
    "\n",
    "def computeMinCost(c):\n",
    "    rows, cols = linear_sum_assignment(c)\n",
    "    cost = 0\n",
    "    for i in range(len(rows)):\n",
    "        cost += c[rows[i]][cols[i]]\n",
    "    return cost, rows, cols"
   ]
  },
  {
   "cell_type": "code",
   "execution_count": 8,
   "metadata": {},
   "outputs": [],
   "source": [
    "#*** Computes all the descriptors of bases and save into numpy array files ***\n",
    "# Unnecessary to execute multiple times as long as no change to the base imgs\n",
    "def computeBases(bin_r=5, bin_theta=12, r=2, n_samplePoints = 50):\n",
    "    \n",
    "    base_path = 'image/base'\n",
    "    desc_path = 'image/descriptors'\n",
    "\n",
    "    #compute descriptors of all base imgs and save into file\n",
    "    for fname in listdir(base_path):\n",
    "        if isfile(join(base_path, fname)):\n",
    "            baseImg = cv2.imread(base_path+'/'+fname, cv2.IMREAD_GRAYSCALE)\n",
    "            imgDesc = computeDescriptor(baseImg, bin_r, bin_theta, r, n_samplePoints)\n",
    "            np.save(desc_path+'/'+fname[0]+'_desc',imgDesc)"
   ]
  },
  {
   "cell_type": "code",
   "execution_count": 9,
   "metadata": {},
   "outputs": [],
   "source": [
    "# computeBases()"
   ]
  },
  {
   "cell_type": "code",
   "execution_count": null,
   "metadata": {},
   "outputs": [],
   "source": [
    "# test for histogram demo, least-cost assignment, running time benchmark\n",
    "def showHistogram():\n",
    "    baseA = cv2.imread('image/base/A.png', cv2.IMREAD_GRAYSCALE)\n",
    "    testA = cv2.imread('image/test_A.png', cv2.IMREAD_GRAYSCALE)\n",
    "    testA = computeDescriptor(testA, bin_r, bin_theta, r, n_samplePoints)\n",
    "    baseA = computeDescriptor(baseA, bin_r, bin_theta, r, n_samplePoints)\n",
    "    start = time.time()\n",
    "    cMatrix = computeCostMatrix_chi2(baseA,testA)\n",
    "    cost,rows,cols = computeMinCost(cMatrix)\n",
    "    print(\"time spend:\", round((time.time()-start), 2), \"s\")\n",
    "    print(rows)\n",
    "    print(cols)\n",
    "    plotDescriptorHist(baseA[rows[0]])\n",
    "    plotDescriptorHist(testA[cols[0]])\n",
    "\n",
    "    plotDescriptorHist(baseA[rows[5]])\n",
    "    plotDescriptorHist(testA[cols[5]])"
   ]
  },
  {
   "cell_type": "code",
   "execution_count": 10,
   "metadata": {},
   "outputs": [
    {
     "name": "stdout",
     "output_type": "stream",
     "text": [
      "{'0': 647.55, '1': 1063.22, '2': 790.09, '3': 767.0, '4': 599.36, '5': 649.24, '6': 602.82, '7': 960.0, '8': 542.37, '9': 749.44, 'A': 500.93, 'B': 575.76, 'C': 798.49, 'D': 643.58, 'E': 717.49, 'F': 818.4, 'G': 670.82, 'H': 589.85, 'J': 990.24, 'K': 447.97, 'L': 815.41, 'M': 496.53, 'N': 490.86, 'R': 487.58, 'T': 967.48, 'X': 633.42}\n",
      "The character is  K\n"
     ]
    }
   ],
   "source": [
    "# The main program, runnable after all other function blocks are compiled.\n",
    "\n",
    "# img = cv2.imread('image/A.png')\n",
    "# plt.imshow(img)\n",
    "\n",
    "baseA = cv2.imread('image/base/A.png', cv2.IMREAD_GRAYSCALE)\n",
    "testA = cv2.imread('image/test_A.png', cv2.IMREAD_GRAYSCALE)\n",
    "testB = cv2.imread('image/test_B.png', cv2.IMREAD_GRAYSCALE)\n",
    "test9 = cv2.imread('image/test_9.png', cv2.IMREAD_GRAYSCALE)\n",
    "testK = cv2.imread('image/test_K.png', cv2.IMREAD_GRAYSCALE)\n",
    "testD = cv2.imread('image/test_D.png', cv2.IMREAD_GRAYSCALE)\n",
    "# testB_r = cv2.imread('image/test_B_rotated.png')\n",
    "# testA_r = cv2.imread('image/test_A_rotated.png')\n",
    "\n",
    "\n",
    "bin_r=5\n",
    "bin_theta=12\n",
    "r=2\n",
    "n_samplePoints = 50\n",
    "\n",
    "# test for character recognition\n",
    "\n",
    "result, cost_dict = recognize(testK)\n",
    "print(cost_dict)\n",
    "print(\"The character is \",result)"
   ]
  },
  {
   "cell_type": "code",
   "execution_count": 11,
   "metadata": {},
   "outputs": [
    {
     "name": "stdout",
     "output_type": "stream",
     "text": [
      "time spend: 0.81 s\n",
      "[ 0  1  2  3  4  5  6  7  8  9 10 11 12 13 14 15 16 17 18 19 20 21 22 23\n",
      " 24 25 26 27 28 29 30 31 32 33 34 35 36 37 38 39 40 41 42 43 44 45 46 47\n",
      " 48 49]\n",
      "[25 14 13 12  1 10  9 15  7  6  5  4  3  2 16 18 48 47 46 45  0 43 24 41\n",
      " 26 27 28 37 36 31 32 33  8 35 30 29 38 39 40 11 42 23 44 22 21 20 19 17\n",
      " 49 34]\n"
     ]
    },
    {
     "data": {
      "image/png": "[encoded data removed]",
      "text/plain": [
       "<Figure size 432x288 with 2 Axes>"
      ]
     },
     "metadata": {
      "needs_background": "light"
     },
     "output_type": "display_data"
    },
    {
     "data": {
      "image/png": "[encoded data removed]",
      "text/plain": [
       "<Figure size 432x288 with 2 Axes>"
      ]
     },
     "metadata": {
      "needs_background": "light"
     },
     "output_type": "display_data"
    },
    {
     "data": {
      "image/png": "[encoded data removed]",
      "text/plain": [
       "<Figure size 432x288 with 2 Axes>"
      ]
     },
     "metadata": {
      "needs_background": "light"
     },
     "output_type": "display_data"
    },
    {
     "data": {
      "image/png": "[encoded data removed]",
      "text/plain": [
       "<Figure size 432x288 with 2 Axes>"
      ]
     },
     "metadata": {
      "needs_background": "light"
     },
     "output_type": "display_data"
    }
   ],
   "source": [
    "showHistogram()"
   ]
  },
  {
   "cell_type": "code",
   "execution_count": 12,
   "metadata": {},
   "outputs": [],
   "source": [
    "# ret = np.zeros(img.shape)\n",
    "# h,w = img.shape\n",
    "# for [x,y] in samplePoints:\n",
    "# #     if x<h and y<w:\n",
    "#     ret[y][x] = 255\n",
    "# plt.imshow(ret)\n",
    "\n",
    "\n",
    "\n",
    "# edge = cv2.Canny(img, 50, 150)\n",
    "# # plt.imshow(edge)\n",
    "# samplePoints = []\n",
    "# for index, val in np.ndenumerate(edge):\n",
    "#     if val == 255:\n",
    "#         samplePoints.append(index)\n",
    "\n",
    "# print(samplePoints)\n",
    "# for (x,y) in samplePoints:\n",
    "#     ret[x][y] = 1\n",
    "# plt.imshow(ret)\n",
    "\n",
    "# ret = np.zeros(img.shape)\n",
    "# h,w = img.shape\n",
    "# for [x,y] in samplePoints:\n",
    "# #     if x<h and y<w:\n",
    "#     ret[y][x] = 255\n",
    "# plt.imshow(ret)\n",
    "\n",
    "# edge = cv2.Canny(img, 50, 150)\n",
    "# # plt.imshow(edge)\n",
    "# samplePoints = []\n",
    "# for index, val in np.ndenumerate(edge):\n",
    "#     if val == 255:\n",
    "#         samplePoints.append(index)\n",
    "\n",
    "\n",
    "\n",
    "\n",
    "\n",
    "\n",
    "# cost,_,_ = computeDiff(imgB, testB, bin_r, bin_theta, r, n_samplePoints)\n",
    "# print(cost)\n",
    "\n",
    "# baseA = computeDescriptor(imgA, bin_r, bin_theta, r, n_samplePoints)\n",
    "# np.save(\"image/descriptors/A_desc\",baseA)\n",
    "# baseA_l = np.load(\"image/base/A_desc.npy\")\n",
    "# baseA == baseA_l\n",
    "\n",
    "# baseB = computeDescriptor(imgB, bin_r, bin_theta, r, n_samplePoints)\n",
    "\n",
    "# # dTestA = computeDescriptor(testA, bin_r, bin_theta, r, n_samplePoints)\n",
    "# dTestB = computeDescriptor(testB, bin_r, bin_theta, r, n_samplePoints)\n",
    "\n",
    "\n",
    "# cMatrix = computeCostMatrix_chi2(baseA,dTestB)\n",
    "# cost,_,_ = computeMinCost(cMatrix)\n",
    "# print(cost)\n",
    "\n",
    "# cMatrix = computeCostMatrix_chi2(baseB,dTestB)\n",
    "# cost,_,_ = computeMinCost(cMatrix)\n",
    "# print(cost)"
   ]
  },
  {
   "cell_type": "code",
   "execution_count": 13,
   "metadata": {},
   "outputs": [],
   "source": [
    "# print(len(samplePoints)==n_samplePoints)\n",
    "# r = 2\n",
    "# bin_r=5\n",
    "# bin_theta=12\n",
    "# #init descriptor of all points, 5 * 12 bins for each point\n",
    "# descriptor = np.zeros((n_samplePoints, bin_r, bin_theta), dtype=int)\n",
    "# #compute eu dists and normalize by mean (a symmetric matrix)\n",
    "# euclidians = cdist(samplePoints, samplePoints, metric='euclidean')\n",
    "# normalized_euclidians = euclidians / euclidians.mean()\n",
    "# #declare logspace bonds\n",
    "# r_log = np.logspace(np.log10(0.125), np.log10(r), bin_r)\n",
    "\n",
    "# #categorize eu dists radius-wise (5 categories) for each point, and store together in eu_rw\n",
    "# #*** the outer most layer is cate 1 ***\n",
    "# eu_rw = np.zeros((n_samplePoints, n_samplePoints), dtype=int)\n",
    "# for i in range(bin_r):\n",
    "# #     for m in range(n_samplePoints):\n",
    "# #         for n in range(n_samplePoints):\n",
    "# #             eu_rw[m][n] += (normalized_euclidians[m][n]<r_log[i]) \n",
    "#     eu_rw += normalized_euclidians<r_log[i] #O(n^2) matrix op\n",
    "\n",
    "# #compute angles inter-points and normalize by *** vector of max dist points *** \n",
    "# thetas = cdist(samplePoints, samplePoints, metric=lambda u, v: math.atan2((v[1] - u[1]), (v[0] - u[0])))\n",
    "# maxPoints = [euclidians.argmax()//n_samplePoints, euclidians.argmax()%n_samplePoints]\n",
    "# normAngle = thetas[maxPoints[0], maxPoints[1]]\n",
    "# #rotate by normAngle,convert to positive,and ignore small values\n",
    "# for i in range(n_samplePoints):\n",
    "#     for j in range(n_samplePoints):\n",
    "#         thetas[i][j] -= normAngle*(thetas[i][j]!=0)\n",
    "#         thetas[i][j] += 2*math.pi*(thetas[i][j]<0)\n",
    "#         thetas[i][j] = thetas[i][j]*(thetas[i][j]>1e-7)\n",
    "        \n",
    "# #categorize angles from 0 to 2*pi by a factor of 12, for each point, and store together in theta_aw\n",
    "# theta_aw = np.int32(thetas/(2*math.pi/bin_theta))\n",
    "\n",
    "# #compute values in descriptor\n",
    "# for i in range(n_samplePoints):\n",
    "#     desc_per_point = np.zeros((bin_r, bin_theta)) \n",
    "#     for j in range(n_samplePoints):\n",
    "#         if eu_rw[i][j]:# 0 means eu dist exceeds the radius of descriptor\n",
    "#             desc_per_point[eu_rw[i][j]-1, theta_aw[i][j]] += 1\n",
    "#     descriptor[i][:][:] = desc_per_point[:][:]    \n",
    "\n",
    "\n",
    "\n"
   ]
  }
 ],
 "metadata": {
  "kernelspec": {
   "display_name": "Python 3",
   "language": "python",
   "name": "python3"
  },
  "language_info": {
   "codemirror_mode": {
    "name": "ipython",
    "version": 3
   },
   "file_extension": ".py",
   "mimetype": "text/x-python",
   "name": "python",
   "nbconvert_exporter": "python",
   "pygments_lexer": "ipython3",
   "version": "3.6.4"
  }
 },
 "nbformat": 4,
 "nbformat_minor": 4
}
